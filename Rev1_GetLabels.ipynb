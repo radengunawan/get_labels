{
 "cells": [
  {
   "cell_type": "code",
   "execution_count": 1,
   "id": "a2f73e5b",
   "metadata": {},
   "outputs": [
    {
     "data": {
      "text/plain": [
       "'D:\\\\Proj_OCR'"
      ]
     },
     "execution_count": 1,
     "metadata": {},
     "output_type": "execute_result"
    }
   ],
   "source": [
    "pwd"
   ]
  },
  {
   "cell_type": "code",
   "execution_count": 2,
   "id": "bc4ffd4d",
   "metadata": {},
   "outputs": [],
   "source": [
    "import cv2\n",
    "import torch\n",
    "from PIL import Image\n",
    "import cv2\n",
    "import torch\n",
    "from PIL import Image\n",
    "import glob\n",
    "import matplotlib.pyplot as plt\n",
    "\n",
    "import numpy as np\n",
    "import matplotlib.image as mpimg\n",
    "import os\n",
    "from pyzbar.pyzbar import decode\n",
    "from pyzbar import pyzbar\n",
    "import cv2\n",
    "import glob\n",
    "from tqdm import tqdm\n",
    "from barcode import EAN13\n",
    "from barcode.writer import ImageWriter\n",
    "import matplotlib.pyplot as plt\n",
    "\n",
    "import cv2\n",
    "import torch\n",
    "from PIL import Image\n",
    "\n",
    "\n",
    "%matplotlib inline\n",
    "\n",
    "## Objects:\n",
    "#1. Label\n",
    "class Label:\n",
    "    def __init__(self,  boundPoints = None, labelImage = None, originCoordinate = None):\n",
    "        self.boundPoints = boundPoints\n",
    "        self.labelImage = labelImage\n",
    "        self.originCoordinate = originCoordinate\n",
    "        self.barcodeReadStatus = False\n",
    "    \n",
    "        #magnified \n",
    "        self.magnifiedImage = None\n",
    "        self.magnificationFactor = 1\n",
    "        \n",
    "        #binarized image\n",
    "        self.binarizedImage = None\n",
    "\n",
    "        #decoded barcode\n",
    "        self.barcodeList = []\n",
    "        \n",
    "        #bounding box\n",
    "        self.boundingBox = None\n",
    "        "
   ]
  },
  {
   "cell_type": "code",
   "execution_count": 3,
   "id": "4c144e84",
   "metadata": {},
   "outputs": [
    {
     "name": "stdout",
     "output_type": "stream",
     "text": [
      "0\n",
      "84\n"
     ]
    }
   ],
   "source": [
    "files = glob.glob('./Raw_Boxes//*.png')\n",
    "print(len(files))\n",
    "another_files = glob.glob('./Raw_Boxes//*.jpg')\n",
    "\n",
    "for file in another_files:\n",
    "    files.append(file)\n",
    "    \n",
    "    \n",
    "print(len(files))"
   ]
  },
  {
   "cell_type": "code",
   "execution_count": 4,
   "id": "fe5ddbf9",
   "metadata": {},
   "outputs": [
    {
     "name": "stderr",
     "output_type": "stream",
     "text": [
      "Using cache found in C:\\Users\\sendr/.cache\\torch\\hub\\ultralytics_yolov5_master\n",
      "YOLOv5  2021-12-9 torch 1.8.2+cu111 CUDA:0 (GeForce RTX 3050 Laptop GPU, 4096MiB)\n",
      "\n",
      "Fusing layers... \n",
      "Model Summary: 224 layers, 7053910 parameters, 0 gradients\n",
      "Adding AutoShape... \n"
     ]
    },
    {
     "name": "stdout",
     "output_type": "stream",
     "text": [
      "<class 'models.common.AutoShape'>\n"
     ]
    }
   ],
   "source": [
    "#Model loading\n",
    "model = torch.hub.load('ultralytics/yolov5', 'custom', path='./Models/detector_sitcker.pt')\n",
    "model.iou = 0.1\n",
    "print(type(model))"
   ]
  },
  {
   "cell_type": "code",
   "execution_count": 5,
   "id": "f8447a20",
   "metadata": {},
   "outputs": [],
   "source": [
    "class ImageFile:\n",
    "    def __init__(self, image = None):\n",
    "        self.image = image\n",
    "        self.results = []\n",
    "        self.stickers = []"
   ]
  },
  {
   "cell_type": "code",
   "execution_count": 6,
   "id": "605362fc",
   "metadata": {},
   "outputs": [
    {
     "name": "stdout",
     "output_type": "stream",
     "text": [
      "1. File Loading...\n"
     ]
    },
    {
     "name": "stderr",
     "output_type": "stream",
     "text": [
      "100%|██████████████████████████████████████████████████████████████████████████████████| 84/84 [00:11<00:00,  7.12it/s]\n"
     ]
    },
    {
     "name": "stdout",
     "output_type": "stream",
     "text": [
      "2. Convert image color \n"
     ]
    },
    {
     "name": "stderr",
     "output_type": "stream",
     "text": [
      "100%|██████████████████████████████████████████████████████████████████████████████████| 84/84 [00:01<00:00, 62.47it/s]\n"
     ]
    },
    {
     "name": "stdout",
     "output_type": "stream",
     "text": [
      "3. Extracting bounding boxes.... \n"
     ]
    },
    {
     "name": "stderr",
     "output_type": "stream",
     "text": [
      "100%|██████████████████████████████████████████████████████████████████████████████████| 84/84 [00:14<00:00,  5.67it/s]\n",
      "  0%|                                                                                           | 0/84 [00:00<?, ?it/s]Saved 1 image to \u001b[1mruns\\detect\\exp1079\u001b[0m\n",
      "  1%|▉                                                                                  | 1/84 [00:00<01:06,  1.26it/s]Saved 1 image to \u001b[1mruns\\detect\\exp1080\u001b[0m\n",
      "  2%|█▉                                                                                 | 2/84 [00:01<00:37,  2.17it/s]Saved 1 image to \u001b[1mruns\\detect\\exp1081\u001b[0m\n",
      "  4%|██▉                                                                                | 3/84 [00:01<00:28,  2.82it/s]Saved 1 image to \u001b[1mruns\\detect\\exp1082\u001b[0m\n",
      "  5%|███▉                                                                               | 4/84 [00:01<00:23,  3.47it/s]Saved 1 image to \u001b[1mruns\\detect\\exp1083\u001b[0m\n",
      "  6%|████▉                                                                              | 5/84 [00:01<00:20,  3.93it/s]Saved 1 image to \u001b[1mruns\\detect\\exp1084\u001b[0m\n",
      "  7%|█████▉                                                                             | 6/84 [00:01<00:18,  4.32it/s]Saved 1 image to \u001b[1mruns\\detect\\exp1085\u001b[0m\n",
      "  8%|██████▉                                                                            | 7/84 [00:02<00:16,  4.62it/s]Saved 1 image to \u001b[1mruns\\detect\\exp1086\u001b[0m\n",
      " 10%|███████▉                                                                           | 8/84 [00:02<00:15,  4.97it/s]Saved 1 image to \u001b[1mruns\\detect\\exp1087\u001b[0m\n",
      " 11%|████████▉                                                                          | 9/84 [00:02<00:14,  5.15it/s]Saved 1 image to \u001b[1mruns\\detect\\exp1088\u001b[0m\n",
      " 12%|█████████▊                                                                        | 10/84 [00:02<00:14,  5.14it/s]Saved 1 image to \u001b[1mruns\\detect\\exp1089\u001b[0m\n",
      " 13%|██████████▋                                                                       | 11/84 [00:02<00:14,  4.99it/s]Saved 1 image to \u001b[1mruns\\detect\\exp1090\u001b[0m\n",
      " 14%|███████████▋                                                                      | 12/84 [00:02<00:14,  4.81it/s]Saved 1 image to \u001b[1mruns\\detect\\exp1091\u001b[0m\n",
      " 15%|████████████▋                                                                     | 13/84 [00:03<00:15,  4.61it/s]Saved 1 image to \u001b[1mruns\\detect\\exp1092\u001b[0m\n",
      " 17%|█████████████▋                                                                    | 14/84 [00:03<00:14,  4.69it/s]Saved 1 image to \u001b[1mruns\\detect\\exp1093\u001b[0m\n",
      " 18%|██████████████▋                                                                   | 15/84 [00:03<00:14,  4.80it/s]Saved 1 image to \u001b[1mruns\\detect\\exp1094\u001b[0m\n",
      " 19%|███████████████▌                                                                  | 16/84 [00:03<00:13,  4.96it/s]Saved 1 image to \u001b[1mruns\\detect\\exp1095\u001b[0m\n",
      " 20%|████████████████▌                                                                 | 17/84 [00:04<00:14,  4.60it/s]Saved 1 image to \u001b[1mruns\\detect\\exp1096\u001b[0m\n",
      " 21%|█████████████████▌                                                                | 18/84 [00:04<00:15,  4.33it/s]Saved 1 image to \u001b[1mruns\\detect\\exp1097\u001b[0m\n",
      " 23%|██████████████████▌                                                               | 19/84 [00:04<00:16,  3.97it/s]Saved 1 image to \u001b[1mruns\\detect\\exp1098\u001b[0m\n",
      " 24%|███████████████████▌                                                              | 20/84 [00:04<00:15,  4.22it/s]Saved 1 image to \u001b[1mruns\\detect\\exp1099\u001b[0m\n",
      " 25%|████████████████████▌                                                             | 21/84 [00:05<00:16,  3.93it/s]Saved 1 image to \u001b[1mruns\\detect\\exp1100\u001b[0m\n",
      " 26%|█████████████████████▍                                                            | 22/84 [00:05<00:15,  3.93it/s]Saved 1 image to \u001b[1mruns\\detect\\exp1101\u001b[0m\n",
      " 27%|██████████████████████▍                                                           | 23/84 [00:05<00:14,  4.17it/s]Saved 1 image to \u001b[1mruns\\detect\\exp1102\u001b[0m\n",
      " 29%|███████████████████████▍                                                          | 24/84 [00:05<00:13,  4.53it/s]Saved 1 image to \u001b[1mruns\\detect\\exp1103\u001b[0m\n",
      " 30%|████████████████████████▍                                                         | 25/84 [00:05<00:11,  4.94it/s]Saved 1 image to \u001b[1mruns\\detect\\exp1104\u001b[0m\n",
      " 31%|█████████████████████████▍                                                        | 26/84 [00:06<00:11,  5.14it/s]Saved 1 image to \u001b[1mruns\\detect\\exp1105\u001b[0m\n",
      " 32%|██████████████████████████▎                                                       | 27/84 [00:06<00:10,  5.19it/s]Saved 1 image to \u001b[1mruns\\detect\\exp1106\u001b[0m\n",
      " 33%|███████████████████████████▎                                                      | 28/84 [00:06<00:10,  5.13it/s]Saved 1 image to \u001b[1mruns\\detect\\exp1107\u001b[0m\n",
      " 35%|████████████████████████████▎                                                     | 29/84 [00:06<00:10,  5.24it/s]Saved 1 image to \u001b[1mruns\\detect\\exp1108\u001b[0m\n",
      " 36%|█████████████████████████████▎                                                    | 30/84 [00:06<00:10,  5.37it/s]Saved 1 image to \u001b[1mruns\\detect\\exp1109\u001b[0m\n",
      " 37%|██████████████████████████████▎                                                   | 31/84 [00:07<00:09,  5.46it/s]Saved 1 image to \u001b[1mruns\\detect\\exp1110\u001b[0m\n",
      " 38%|███████████████████████████████▏                                                  | 32/84 [00:07<00:09,  5.57it/s]Saved 1 image to \u001b[1mruns\\detect\\exp1111\u001b[0m\n",
      " 39%|████████████████████████████████▏                                                 | 33/84 [00:07<00:09,  5.66it/s]Saved 1 image to \u001b[1mruns\\detect\\exp1112\u001b[0m\n",
      " 40%|█████████████████████████████████▏                                                | 34/84 [00:07<00:09,  5.47it/s]Saved 1 image to \u001b[1mruns\\detect\\exp1113\u001b[0m\n",
      " 42%|██████████████████████████████████▏                                               | 35/84 [00:07<00:10,  4.66it/s]Saved 1 image to \u001b[1mruns\\detect\\exp1114\u001b[0m\n",
      " 43%|███████████████████████████████████▏                                              | 36/84 [00:08<00:11,  4.26it/s]Saved 1 image to \u001b[1mruns\\detect\\exp1115\u001b[0m\n",
      " 44%|████████████████████████████████████                                              | 37/84 [00:08<00:11,  3.92it/s]Saved 1 image to \u001b[1mruns\\detect\\exp1116\u001b[0m\n",
      " 45%|█████████████████████████████████████                                             | 38/84 [00:08<00:12,  3.71it/s]Saved 1 image to \u001b[1mruns\\detect\\exp1117\u001b[0m\n",
      " 46%|██████████████████████████████████████                                            | 39/84 [00:09<00:12,  3.71it/s]Saved 1 image to \u001b[1mruns\\detect\\exp1118\u001b[0m\n",
      "Saved 1 image to \u001b[1mruns\\detect\\exp1119\u001b[0m\n",
      " 49%|████████████████████████████████████████                                          | 41/84 [00:09<00:08,  5.30it/s]Saved 1 image to \u001b[1mruns\\detect\\exp1120\u001b[0m\n",
      " 50%|█████████████████████████████████████████                                         | 42/84 [00:09<00:07,  5.92it/s]Saved 1 image to \u001b[1mruns\\detect\\exp1121\u001b[0m\n",
      "Saved 1 image to \u001b[1mruns\\detect\\exp1122\u001b[0m\n",
      " 52%|██████████████████████████████████████████▉                                       | 44/84 [00:09<00:05,  7.22it/s]Saved 1 image to \u001b[1mruns\\detect\\exp1123\u001b[0m\n",
      " 54%|███████████████████████████████████████████▉                                      | 45/84 [00:09<00:05,  7.67it/s]Saved 1 image to \u001b[1mruns\\detect\\exp1124\u001b[0m\n",
      "Saved 1 image to \u001b[1mruns\\detect\\exp1125\u001b[0m\n",
      " 56%|█████████████████████████████████████████████▉                                    | 47/84 [00:09<00:04,  8.16it/s]Saved 1 image to \u001b[1mruns\\detect\\exp1126\u001b[0m\n",
      " 57%|██████████████████████████████████████████████▊                                   | 48/84 [00:09<00:04,  7.86it/s]Saved 1 image to \u001b[1mruns\\detect\\exp1127\u001b[0m\n",
      " 58%|███████████████████████████████████████████████▊                                  | 49/84 [00:10<00:04,  7.89it/s]Saved 1 image to \u001b[1mruns\\detect\\exp1128\u001b[0m\n",
      " 60%|████████████████████████████████████████████████▊                                 | 50/84 [00:10<00:04,  8.20it/s]Saved 1 image to \u001b[1mruns\\detect\\exp1129\u001b[0m\n",
      "Saved 1 image to \u001b[1mruns\\detect\\exp1130\u001b[0m\n"
     ]
    },
    {
     "name": "stderr",
     "output_type": "stream",
     "text": [
      " 62%|██████████████████████████████████████████████████▊                               | 52/84 [00:10<00:03,  9.17it/s]Saved 1 image to \u001b[1mruns\\detect\\exp1131\u001b[0m\n",
      "Saved 1 image to \u001b[1mruns\\detect\\exp1132\u001b[0m\n",
      " 64%|████████████████████████████████████████████████████▋                             | 54/84 [00:10<00:03,  9.77it/s]Saved 1 image to \u001b[1mruns\\detect\\exp1133\u001b[0m\n",
      "Saved 1 image to \u001b[1mruns\\detect\\exp1134\u001b[0m\n",
      " 67%|██████████████████████████████████████████████████████▋                           | 56/84 [00:10<00:02, 10.03it/s]Saved 1 image to \u001b[1mruns\\detect\\exp1135\u001b[0m\n",
      "Saved 1 image to \u001b[1mruns\\detect\\exp1136\u001b[0m\n",
      " 69%|████████████████████████████████████████████████████████▌                         | 58/84 [00:10<00:02, 10.06it/s]Saved 1 image to \u001b[1mruns\\detect\\exp1137\u001b[0m\n",
      "Saved 1 image to \u001b[1mruns\\detect\\exp1138\u001b[0m\n",
      " 71%|██████████████████████████████████████████████████████████▌                       | 60/84 [00:11<00:02, 10.54it/s]Saved 1 image to \u001b[1mruns\\detect\\exp1139\u001b[0m\n",
      "Saved 1 image to \u001b[1mruns\\detect\\exp1140\u001b[0m\n",
      " 74%|████████████████████████████████████████████████████████████▌                     | 62/84 [00:11<00:02, 10.55it/s]Saved 1 image to \u001b[1mruns\\detect\\exp1141\u001b[0m\n",
      "Saved 1 image to \u001b[1mruns\\detect\\exp1142\u001b[0m\n",
      " 76%|██████████████████████████████████████████████████████████████▍                   | 64/84 [00:11<00:01, 10.81it/s]Saved 1 image to \u001b[1mruns\\detect\\exp1143\u001b[0m\n",
      "Saved 1 image to \u001b[1mruns\\detect\\exp1144\u001b[0m\n",
      " 79%|████████████████████████████████████████████████████████████████▍                 | 66/84 [00:11<00:01, 10.49it/s]Saved 1 image to \u001b[1mruns\\detect\\exp1145\u001b[0m\n",
      "Saved 1 image to \u001b[1mruns\\detect\\exp1146\u001b[0m\n",
      " 81%|██████████████████████████████████████████████████████████████████▍               | 68/84 [00:11<00:01, 10.12it/s]Saved 1 image to \u001b[1mruns\\detect\\exp1147\u001b[0m\n",
      "Saved 1 image to \u001b[1mruns\\detect\\exp1148\u001b[0m\n",
      " 83%|████████████████████████████████████████████████████████████████████▎             | 70/84 [00:12<00:01,  9.32it/s]Saved 1 image to \u001b[1mruns\\detect\\exp1149\u001b[0m\n",
      "Saved 1 image to \u001b[1mruns\\detect\\exp1150\u001b[0m\n",
      " 86%|██████████████████████████████████████████████████████████████████████▎           | 72/84 [00:12<00:01, 10.03it/s]Saved 1 image to \u001b[1mruns\\detect\\exp1151\u001b[0m\n",
      "Saved 1 image to \u001b[1mruns\\detect\\exp1152\u001b[0m\n",
      " 88%|████████████████████████████████████████████████████████████████████████▏         | 74/84 [00:12<00:00, 10.17it/s]Saved 1 image to \u001b[1mruns\\detect\\exp1153\u001b[0m\n",
      "Saved 1 image to \u001b[1mruns\\detect\\exp1154\u001b[0m\n",
      " 90%|██████████████████████████████████████████████████████████████████████████▏       | 76/84 [00:12<00:00, 10.48it/s]Saved 1 image to \u001b[1mruns\\detect\\exp1155\u001b[0m\n",
      "Saved 1 image to \u001b[1mruns\\detect\\exp1156\u001b[0m\n",
      " 93%|████████████████████████████████████████████████████████████████████████████▏     | 78/84 [00:12<00:00, 10.81it/s]Saved 1 image to \u001b[1mruns\\detect\\exp1157\u001b[0m\n",
      "Saved 1 image to \u001b[1mruns\\detect\\exp1158\u001b[0m\n",
      " 95%|██████████████████████████████████████████████████████████████████████████████    | 80/84 [00:13<00:00, 11.13it/s]Saved 1 image to \u001b[1mruns\\detect\\exp1159\u001b[0m\n",
      "Saved 1 image to \u001b[1mruns\\detect\\exp1160\u001b[0m\n",
      " 98%|████████████████████████████████████████████████████████████████████████████████  | 82/84 [00:13<00:00, 11.55it/s]Saved 1 image to \u001b[1mruns\\detect\\exp1161\u001b[0m\n",
      "Saved 1 image to \u001b[1mruns\\detect\\exp1162\u001b[0m\n",
      "100%|██████████████████████████████████████████████████████████████████████████████████| 84/84 [00:13<00:00,  6.29it/s]"
     ]
    },
    {
     "name": "stdout",
     "output_type": "stream",
     "text": [
      "835\n",
      "<class 'numpy.ndarray'>\n"
     ]
    },
    {
     "name": "stderr",
     "output_type": "stream",
     "text": [
      "\n"
     ]
    }
   ],
   "source": [
    "imgs = []  # batch of images\n",
    "\n",
    "print('1. File Loading...')\n",
    "for file in tqdm(files):\n",
    "    imgs.append(ImageFile(cv2.imread(file)))\n",
    "\n",
    "print('2. Convert image color ')\n",
    "for i in tqdm(range (len(imgs))):\n",
    "    imgs[i].image = cv2.cvtColor(imgs[i].image, cv2.COLOR_BGR2RGB)\n",
    "    \n",
    "print('3. Extracting bounding boxes.... ')    \n",
    "for i in tqdm(range (len(imgs))):\n",
    "    imgs[i].results = model(np.copy(imgs[i].image))\n",
    "   \n",
    "for i in tqdm(range (len(imgs))):\n",
    "    imgs[i].results.save()\n",
    "    df = imgs[i].results.pandas().xyxy[0]\n",
    "    \n",
    "    if (len(df) >0):\n",
    "        for j in range (len(df)):\n",
    "            xmin = int(df.iloc[j].xmin)\n",
    "            ymin = int(df.iloc[j].ymin)\n",
    "            xmax = int(df.iloc[j].xmax)\n",
    "            ymax = int(df.iloc[j].ymax)\n",
    "            imgs[i].stickers.append(imgs[i].image[ymin:ymax,xmin:xmax])\n",
    "    \n",
    "#Collect all stickers from all images\n",
    "sticker_list = []\n",
    "\n",
    "for img in imgs:\n",
    "    for sticker in img.stickers:\n",
    "        sticker_list.append(sticker)\n",
    "\n",
    "#check before output  \n",
    "print(len(sticker_list))\n",
    "print(type(sticker_list[0]))"
   ]
  },
  {
   "cell_type": "code",
   "execution_count": 10,
   "id": "a3a27043",
   "metadata": {},
   "outputs": [
    {
     "name": "stdout",
     "output_type": "stream",
     "text": [
      "4. outputting result...\n"
     ]
    }
   ],
   "source": [
    "print('4. outputting result...')\n",
    "random.shuffle(sticker_list)"
   ]
  },
  {
   "cell_type": "code",
   "execution_count": 11,
   "id": "b45b1fac",
   "metadata": {},
   "outputs": [
    {
     "name": "stdout",
     "output_type": "stream",
     "text": [
      "5. outputting result...\n"
     ]
    },
    {
     "name": "stderr",
     "output_type": "stream",
     "text": [
      "100%|███████████████████████████████████████████████████████████████████████████████| 835/835 [00:06<00:00, 123.38it/s]\n"
     ]
    }
   ],
   "source": [
    "print('5. outputting result...')\n",
    "i = 0\n",
    "prefix = ''\n",
    "for sticker in tqdm(sticker_list):\n",
    "    \n",
    "    if (i < 10):\n",
    "        prefix = '00'\n",
    "    elif (i < 100):\n",
    "        prefix = '0'\n",
    "    elif (i>100):\n",
    "        prefix = ''\n",
    "        \n",
    "    cv2.imwrite('./Raw_Stickers2/sticker2_'+prefix+str(i)+'.jpg',sticker[:,:,::-1])\n",
    "    i+=1"
   ]
  },
  {
   "cell_type": "code",
   "execution_count": 9,
   "id": "eae62bfe",
   "metadata": {},
   "outputs": [
    {
     "name": "stdout",
     "output_type": "stream",
     "text": [
      "['banana', 'apple', 'cherry']\n"
     ]
    }
   ],
   "source": [
    "import random\n",
    "\n",
    "mylist = [\"apple\", \"banana\", \"cherry\"]\n",
    "random.shuffle(mylist)\n",
    "\n",
    "print(mylist)"
   ]
  },
  {
   "cell_type": "code",
   "execution_count": null,
   "id": "eccd8918",
   "metadata": {},
   "outputs": [],
   "source": []
  }
 ],
 "metadata": {
  "kernelspec": {
   "display_name": "Python 3 (ipykernel)",
   "language": "python",
   "name": "python3"
  },
  "language_info": {
   "codemirror_mode": {
    "name": "ipython",
    "version": 3
   },
   "file_extension": ".py",
   "mimetype": "text/x-python",
   "name": "python",
   "nbconvert_exporter": "python",
   "pygments_lexer": "ipython3",
   "version": "3.9.12"
  }
 },
 "nbformat": 4,
 "nbformat_minor": 5
}
