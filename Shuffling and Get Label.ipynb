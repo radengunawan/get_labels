{
 "cells": [
  {
   "cell_type": "code",
   "execution_count": 1,
   "id": "73bd1e9b",
   "metadata": {},
   "outputs": [
    {
     "name": "stdout",
     "output_type": "stream",
     "text": [
      "729\n"
     ]
    }
   ],
   "source": [
    "import glob\n",
    "import numpy as np\n",
    "import matplotlib.pyplot as plt\n",
    "import cv2\n",
    "from tqdm import tqdm\n",
    "import random\n",
    "\n",
    "files = glob.glob('./Raw_Boxes_From_Video_Spec/Mixall/*.jpg')\n",
    "\n",
    "\n",
    "print(len(files))"
   ]
  },
  {
   "cell_type": "code",
   "execution_count": null,
   "id": "ec45c56e",
   "metadata": {},
   "outputs": [],
   "source": [
    "import random\n",
    "\n",
    "a = list(range(101))\n",
    "# Driver Code\n",
    "random.shuffle(a)\n",
    "\n",
    "for i in range(len(a)):\n",
    "    print(a[i])"
   ]
  },
  {
   "cell_type": "code",
   "execution_count": 2,
   "id": "9509359b",
   "metadata": {},
   "outputs": [],
   "source": [
    "class Image:\n",
    "    def __init__(self, image, oriname, newname = None):\n",
    "        self.image = image\n",
    "        self.oriname = oriname\n",
    "        self.newname = newname"
   ]
  },
  {
   "cell_type": "code",
   "execution_count": 20,
   "id": "e10427bb",
   "metadata": {},
   "outputs": [
    {
     "name": "stderr",
     "output_type": "stream",
     "text": [
      "100%|███████████████████████████████████████████████████████████████████████████████| 884/884 [00:06<00:00, 136.26it/s]\n"
     ]
    }
   ],
   "source": [
    "files = glob.glob('./Raw_Boxes_From_Video_Spec/Seen from Above/*.jpg')\n",
    "\n",
    "number = list(range(len(files)))\n",
    "\n",
    "random.shuffle(number)\n",
    "\n",
    "\n",
    "for i in tqdm(range(len(files))):\n",
    "    cv2.imwrite('./Raw_Boxes_From_Video_Spec/Shuffled2/sf2_'+str(i)+'.jpg',\n",
    "               cv2.imread(files[number[i]]))\n",
    "    "
   ]
  },
  {
   "cell_type": "code",
   "execution_count": 19,
   "id": "907a45e8",
   "metadata": {},
   "outputs": [
    {
     "data": {
      "text/plain": [
       "792"
      ]
     },
     "execution_count": 19,
     "metadata": {},
     "output_type": "execute_result"
    }
   ],
   "source": [
    "number[0]"
   ]
  },
  {
   "cell_type": "code",
   "execution_count": 21,
   "id": "293fdb36",
   "metadata": {},
   "outputs": [
    {
     "data": {
      "text/plain": [
       "'./Raw_Boxes_From_Video_Spec/Seen from Above\\\\above_ (812).jpg'"
      ]
     },
     "execution_count": 21,
     "metadata": {},
     "output_type": "execute_result"
    }
   ],
   "source": [
    "files[792]"
   ]
  },
  {
   "cell_type": "code",
   "execution_count": 22,
   "id": "9157674d",
   "metadata": {},
   "outputs": [
    {
     "name": "stderr",
     "output_type": "stream",
     "text": [
      "Using cache found in C:\\Users\\sendr/.cache\\torch\\hub\\ultralytics_yolov5_master\n",
      "YOLOv5  2021-12-9 torch 1.8.2+cu111 CUDA:0 (GeForce RTX 3050 Laptop GPU, 4096MiB)\n",
      "\n",
      "Fusing layers... \n",
      "Model Summary: 224 layers, 7053910 parameters, 0 gradients\n",
      "Adding AutoShape... \n"
     ]
    },
    {
     "name": "stdout",
     "output_type": "stream",
     "text": [
      "<class 'models.common.AutoShape'>\n"
     ]
    }
   ],
   "source": [
    "import cv2\n",
    "import torch\n",
    "from PIL import Image\n",
    "import cv2\n",
    "import torch\n",
    "from PIL import Image\n",
    "import glob\n",
    "import matplotlib.pyplot as plt\n",
    "\n",
    "#Model loading\n",
    "model = torch.hub.load('ultralytics/yolov5', 'custom', path='./Models/detector_stickers.pt')\n",
    "model.iou = 0.1\n",
    "print(type(model))"
   ]
  },
  {
   "cell_type": "code",
   "execution_count": 24,
   "id": "bcbb2952",
   "metadata": {},
   "outputs": [
    {
     "name": "stdout",
     "output_type": "stream",
     "text": [
      "3. Extracting bounding boxes.... \n"
     ]
    },
    {
     "name": "stderr",
     "output_type": "stream",
     "text": [
      "100%|████████████████████████████████████████████████████████████████████████████████| 175/175 [00:03<00:00, 45.88it/s]\n"
     ]
    }
   ],
   "source": [
    "files = glob.glob('./Raw_Boxes_From_Video_Spec/Mixshuff/*.jpg')\n",
    "\n",
    "imgs = []  # batch of images\n",
    "\n",
    "    \n",
    "results_list = []\n",
    "print('3. Extracting bounding boxes.... ')    \n",
    "for i in tqdm(range (len(files))):\n",
    "    image = cv2.imread(files[i])\n",
    "    df = model(image[:,:,::-1]).pandas().xyxy[0]\n",
    "    \n",
    "    for j in range (len(df)):\n",
    "        xmin = int(df.iloc[j].xmin)\n",
    "        ymin = int(df.iloc[j].ymin)\n",
    "        xmax = int(df.iloc[j].xmax)\n",
    "        ymax = int(df.iloc[j].ymax)\n",
    "        \n",
    "        cv2.imwrite('./Raw_Boxes_From_Video_Spec/Mixshuff/stickers/stx_'+str(i)+'_'+str(j)+'.jpg',\n",
    "                   image[ymin:ymax, xmin:xmax])\n",
    "    \n",
    "    \n",
    "#Collect all stickers from all images\n",
    "sticker_list = []\n",
    "\n",
    "for img in imgs:\n",
    "    for sticker in img.stickers:\n",
    "        sticker_list.append(sticker)\n",
    "\n",
    "#check before output  \n",
    "#print(len(sticker_list))\n",
    "#print(type(sticker_list[0]))"
   ]
  },
  {
   "cell_type": "code",
   "execution_count": null,
   "id": "534deabb",
   "metadata": {},
   "outputs": [],
   "source": []
  },
  {
   "cell_type": "code",
   "execution_count": null,
   "id": "6e70b400",
   "metadata": {},
   "outputs": [],
   "source": []
  }
 ],
 "metadata": {
  "kernelspec": {
   "display_name": "Python 3 (ipykernel)",
   "language": "python",
   "name": "python3"
  },
  "language_info": {
   "codemirror_mode": {
    "name": "ipython",
    "version": 3
   },
   "file_extension": ".py",
   "mimetype": "text/x-python",
   "name": "python",
   "nbconvert_exporter": "python",
   "pygments_lexer": "ipython3",
   "version": "3.9.12"
  }
 },
 "nbformat": 4,
 "nbformat_minor": 5
}
