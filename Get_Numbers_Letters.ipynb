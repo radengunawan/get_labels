{
 "cells": [
  {
   "cell_type": "markdown",
   "id": "01ab2c8e",
   "metadata": {},
   "source": [
    "#### usage of yolo for getting numbers and letters only\n",
    "#### lib and function def"
   ]
  },
  {
   "cell_type": "code",
   "execution_count": 2,
   "id": "6afa75c0",
   "metadata": {},
   "outputs": [
    {
     "data": {
      "text/plain": [
       "'D:\\\\Proj_OCR'"
      ]
     },
     "execution_count": 2,
     "metadata": {},
     "output_type": "execute_result"
    }
   ],
   "source": [
    "pwd"
   ]
  },
  {
   "cell_type": "code",
   "execution_count": 1,
   "id": "eaf18866",
   "metadata": {},
   "outputs": [],
   "source": [
    "import cv2\n",
    "import torch\n",
    "from PIL import Image\n",
    "import cv2\n",
    "import torch\n",
    "from PIL import Image\n",
    "import glob\n",
    "import matplotlib.pyplot as plt\n",
    "\n",
    "import numpy as np\n",
    "import matplotlib.image as mpimg\n",
    "import os\n",
    "from pyzbar.pyzbar import decode\n",
    "from pyzbar import pyzbar\n",
    "import cv2\n",
    "import glob\n",
    "from tqdm import tqdm\n",
    "from barcode import EAN13\n",
    "from barcode.writer import ImageWriter\n",
    "import matplotlib.pyplot as plt\n",
    "\n",
    "import cv2\n",
    "import torch\n",
    "from PIL import Image\n",
    "\n",
    "\n",
    "%matplotlib inline"
   ]
  },
  {
   "cell_type": "code",
   "execution_count": 3,
   "id": "447838a0",
   "metadata": {},
   "outputs": [
    {
     "name": "stdout",
     "output_type": "stream",
     "text": [
      "0\n"
     ]
    },
    {
     "name": "stderr",
     "output_type": "stream",
     "text": [
      "100%|████████████████████████████████████████████████████████████████████████████| 312/312 [00:00<00:00, 394044.82it/s]"
     ]
    },
    {
     "name": "stdout",
     "output_type": "stream",
     "text": [
      "312\n"
     ]
    },
    {
     "name": "stderr",
     "output_type": "stream",
     "text": [
      "\n"
     ]
    }
   ],
   "source": [
    "files = glob.glob('./Stickers/*.png')\n",
    "print(len(files))\n",
    "another_files = glob.glob('./Stickers/*.jpg')\n",
    "\n",
    "for file in tqdm(another_files):\n",
    "    files.append(file)\n",
    "    \n",
    "print(len(files))"
   ]
  },
  {
   "cell_type": "markdown",
   "id": "01b1c59a",
   "metadata": {},
   "source": [
    "#### Model loading"
   ]
  },
  {
   "cell_type": "code",
   "execution_count": 4,
   "id": "ac956b74",
   "metadata": {},
   "outputs": [
    {
     "name": "stderr",
     "output_type": "stream",
     "text": [
      "Using cache found in C:\\Users\\sendr/.cache\\torch\\hub\\ultralytics_yolov5_master\n",
      "YOLOv5  2021-12-9 torch 1.8.2+cu111 CUDA:0 (GeForce RTX 3050 Laptop GPU, 4096MiB)\n",
      "\n",
      "Fusing layers... \n",
      "Model Summary: 224 layers, 7053910 parameters, 0 gradients, 16.3 GFLOPs\n",
      "Adding AutoShape... \n"
     ]
    },
    {
     "name": "stdout",
     "output_type": "stream",
     "text": [
      "<class 'models.common.AutoShape'>\n"
     ]
    }
   ],
   "source": [
    "model = torch.hub.load('ultralytics/yolov5', 'custom', path='./best_num_letter24.pt')\n",
    "model.iou = 0.1\n",
    "print(type(model))"
   ]
  },
  {
   "cell_type": "code",
   "execution_count": 5,
   "id": "f8f946fe",
   "metadata": {},
   "outputs": [],
   "source": [
    "class NumberLetter:\n",
    "    def __init__(self, image = None):\n",
    "        self.image = image\n",
    "        self.results = []\n",
    "        self.letternumbers = []"
   ]
  },
  {
   "cell_type": "code",
   "execution_count": 6,
   "id": "a87cbea1",
   "metadata": {},
   "outputs": [
    {
     "data": {
      "text/plain": [
       "'D:\\\\Proj_OCR'"
      ]
     },
     "execution_count": 6,
     "metadata": {},
     "output_type": "execute_result"
    }
   ],
   "source": [
    "pwd"
   ]
  },
  {
   "cell_type": "code",
   "execution_count": 8,
   "id": "4cc044c1",
   "metadata": {},
   "outputs": [
    {
     "name": "stdout",
     "output_type": "stream",
     "text": [
      "--Loading Images--\n"
     ]
    },
    {
     "name": "stderr",
     "output_type": "stream",
     "text": [
      "100%|███████████████████████████████████████████████████████████████████████████████| 312/312 [00:01<00:00, 162.82it/s]\n"
     ]
    },
    {
     "name": "stdout",
     "output_type": "stream",
     "text": [
      "--Converting Image Color to RGB--\n"
     ]
    },
    {
     "name": "stderr",
     "output_type": "stream",
     "text": [
      "100%|██████████████████████████████████████████████████████████████████████████████| 312/312 [00:00<00:00, 1552.71it/s]\n"
     ]
    },
    {
     "name": "stdout",
     "output_type": "stream",
     "text": [
      "Identifying crop locations\n"
     ]
    },
    {
     "name": "stderr",
     "output_type": "stream",
     "text": [
      "100%|████████████████████████████████████████████████████████████████████████████████| 312/312 [00:04<00:00, 65.84it/s]\n"
     ]
    },
    {
     "name": "stdout",
     "output_type": "stream",
     "text": [
      "Cropping...\n"
     ]
    },
    {
     "name": "stderr",
     "output_type": "stream",
     "text": [
      "  0%|                                                                                          | 0/312 [00:00<?, ?it/s]Saved 1 image to \u001b[1mruns\\detect\\exp313\u001b[0m\n",
      "Saved 1 image to \u001b[1mruns\\detect\\exp314\u001b[0m\n",
      "Saved 1 image to \u001b[1mruns\\detect\\exp315\u001b[0m\n",
      "Saved 1 image to \u001b[1mruns\\detect\\exp316\u001b[0m\n",
      "Saved 1 image to \u001b[1mruns\\detect\\exp317\u001b[0m\n",
      "Saved 1 image to \u001b[1mruns\\detect\\exp318\u001b[0m\n",
      "Saved 1 image to \u001b[1mruns\\detect\\exp319\u001b[0m\n",
      "Saved 1 image to \u001b[1mruns\\detect\\exp320\u001b[0m\n",
      "Saved 1 image to \u001b[1mruns\\detect\\exp321\u001b[0m\n",
      "Saved 1 image to \u001b[1mruns\\detect\\exp322\u001b[0m\n",
      "  3%|██▌                                                                              | 10/312 [00:00<00:03, 90.62it/s]Saved 1 image to \u001b[1mruns\\detect\\exp323\u001b[0m\n",
      "Saved 1 image to \u001b[1mruns\\detect\\exp324\u001b[0m\n",
      "Saved 1 image to \u001b[1mruns\\detect\\exp325\u001b[0m\n",
      "Saved 1 image to \u001b[1mruns\\detect\\exp326\u001b[0m\n",
      "Saved 1 image to \u001b[1mruns\\detect\\exp327\u001b[0m\n",
      "Saved 1 image to \u001b[1mruns\\detect\\exp328\u001b[0m\n",
      "Saved 1 image to \u001b[1mruns\\detect\\exp329\u001b[0m\n",
      "Saved 1 image to \u001b[1mruns\\detect\\exp330\u001b[0m\n",
      "Saved 1 image to \u001b[1mruns\\detect\\exp331\u001b[0m\n",
      "Saved 1 image to \u001b[1mruns\\detect\\exp332\u001b[0m\n",
      "  6%|█████▏                                                                           | 20/312 [00:00<00:03, 94.94it/s]Saved 1 image to \u001b[1mruns\\detect\\exp333\u001b[0m\n",
      "Saved 1 image to \u001b[1mruns\\detect\\exp334\u001b[0m\n",
      "Saved 1 image to \u001b[1mruns\\detect\\exp335\u001b[0m\n",
      "Saved 1 image to \u001b[1mruns\\detect\\exp336\u001b[0m\n",
      "Saved 1 image to \u001b[1mruns\\detect\\exp337\u001b[0m\n",
      "Saved 1 image to \u001b[1mruns\\detect\\exp338\u001b[0m\n",
      "Saved 1 image to \u001b[1mruns\\detect\\exp339\u001b[0m\n",
      "Saved 1 image to \u001b[1mruns\\detect\\exp340\u001b[0m\n",
      "Saved 1 image to \u001b[1mruns\\detect\\exp341\u001b[0m\n",
      "Saved 1 image to \u001b[1mruns\\detect\\exp342\u001b[0m\n",
      "Saved 1 image to \u001b[1mruns\\detect\\exp343\u001b[0m\n",
      " 10%|████████                                                                         | 31/312 [00:00<00:02, 98.51it/s]Saved 1 image to \u001b[1mruns\\detect\\exp344\u001b[0m\n",
      "Saved 1 image to \u001b[1mruns\\detect\\exp345\u001b[0m\n",
      "Saved 1 image to \u001b[1mruns\\detect\\exp346\u001b[0m\n",
      "Saved 1 image to \u001b[1mruns\\detect\\exp347\u001b[0m\n",
      "Saved 1 image to \u001b[1mruns\\detect\\exp348\u001b[0m\n",
      "Saved 1 image to \u001b[1mruns\\detect\\exp349\u001b[0m\n",
      "Saved 1 image to \u001b[1mruns\\detect\\exp350\u001b[0m\n",
      "Saved 1 image to \u001b[1mruns\\detect\\exp351\u001b[0m\n",
      "Saved 1 image to \u001b[1mruns\\detect\\exp352\u001b[0m\n",
      "Saved 1 image to \u001b[1mruns\\detect\\exp353\u001b[0m\n",
      " 13%|██████████▋                                                                      | 41/312 [00:00<00:02, 96.58it/s]Saved 1 image to \u001b[1mruns\\detect\\exp354\u001b[0m\n",
      "Saved 1 image to \u001b[1mruns\\detect\\exp355\u001b[0m\n",
      "Saved 1 image to \u001b[1mruns\\detect\\exp356\u001b[0m\n",
      "Saved 1 image to \u001b[1mruns\\detect\\exp357\u001b[0m\n",
      "Saved 1 image to \u001b[1mruns\\detect\\exp358\u001b[0m\n",
      "Saved 1 image to \u001b[1mruns\\detect\\exp359\u001b[0m\n",
      "Saved 1 image to \u001b[1mruns\\detect\\exp360\u001b[0m\n",
      "Saved 1 image to \u001b[1mruns\\detect\\exp361\u001b[0m\n",
      "Saved 1 image to \u001b[1mruns\\detect\\exp362\u001b[0m\n",
      "Saved 1 image to \u001b[1mruns\\detect\\exp363\u001b[0m\n",
      " 16%|█████████████▏                                                                   | 51/312 [00:00<00:02, 92.22it/s]Saved 1 image to \u001b[1mruns\\detect\\exp364\u001b[0m\n",
      "Saved 1 image to \u001b[1mruns\\detect\\exp365\u001b[0m\n",
      "Saved 1 image to \u001b[1mruns\\detect\\exp366\u001b[0m\n",
      "Saved 1 image to \u001b[1mruns\\detect\\exp367\u001b[0m\n",
      "Saved 1 image to \u001b[1mruns\\detect\\exp368\u001b[0m\n",
      "Saved 1 image to \u001b[1mruns\\detect\\exp369\u001b[0m\n",
      "Saved 1 image to \u001b[1mruns\\detect\\exp370\u001b[0m\n",
      "Saved 1 image to \u001b[1mruns\\detect\\exp371\u001b[0m\n",
      "Saved 1 image to \u001b[1mruns\\detect\\exp372\u001b[0m\n",
      "Saved 1 image to \u001b[1mruns\\detect\\exp373\u001b[0m\n",
      " 20%|███████████████▊                                                                 | 61/312 [00:00<00:02, 85.21it/s]Saved 1 image to \u001b[1mruns\\detect\\exp374\u001b[0m\n",
      "Saved 1 image to \u001b[1mruns\\detect\\exp375\u001b[0m\n",
      "Saved 1 image to \u001b[1mruns\\detect\\exp376\u001b[0m\n",
      "Saved 1 image to \u001b[1mruns\\detect\\exp377\u001b[0m\n",
      "Saved 1 image to \u001b[1mruns\\detect\\exp378\u001b[0m\n",
      "Saved 1 image to \u001b[1mruns\\detect\\exp379\u001b[0m\n",
      "Saved 1 image to \u001b[1mruns\\detect\\exp380\u001b[0m\n",
      "Saved 1 image to \u001b[1mruns\\detect\\exp381\u001b[0m\n",
      "Saved 1 image to \u001b[1mruns\\detect\\exp382\u001b[0m\n",
      " 22%|██████████████████▏                                                              | 70/312 [00:00<00:03, 69.44it/s]Saved 1 image to \u001b[1mruns\\detect\\exp383\u001b[0m\n",
      "Saved 1 image to \u001b[1mruns\\detect\\exp384\u001b[0m\n",
      "Saved 1 image to \u001b[1mruns\\detect\\exp385\u001b[0m\n",
      "Saved 1 image to \u001b[1mruns\\detect\\exp386\u001b[0m\n",
      "Saved 1 image to \u001b[1mruns\\detect\\exp387\u001b[0m\n",
      "Saved 1 image to \u001b[1mruns\\detect\\exp388\u001b[0m\n",
      "Saved 1 image to \u001b[1mruns\\detect\\exp389\u001b[0m\n",
      "Saved 1 image to \u001b[1mruns\\detect\\exp390\u001b[0m\n",
      " 25%|████████████████████▎                                                            | 78/312 [00:01<00:03, 65.17it/s]Saved 1 image to \u001b[1mruns\\detect\\exp391\u001b[0m\n",
      "Saved 1 image to \u001b[1mruns\\detect\\exp392\u001b[0m\n",
      "Saved 1 image to \u001b[1mruns\\detect\\exp393\u001b[0m\n",
      "Saved 1 image to \u001b[1mruns\\detect\\exp394\u001b[0m\n",
      "Saved 1 image to \u001b[1mruns\\detect\\exp395\u001b[0m\n",
      "Saved 1 image to \u001b[1mruns\\detect\\exp396\u001b[0m\n",
      "Saved 1 image to \u001b[1mruns\\detect\\exp397\u001b[0m\n",
      " 27%|██████████████████████                                                           | 85/312 [00:01<00:03, 64.90it/s]Saved 1 image to \u001b[1mruns\\detect\\exp398\u001b[0m\n",
      "Saved 1 image to \u001b[1mruns\\detect\\exp399\u001b[0m\n",
      "Saved 1 image to \u001b[1mruns\\detect\\exp400\u001b[0m\n",
      "Saved 1 image to \u001b[1mruns\\detect\\exp401\u001b[0m\n",
      "Saved 1 image to \u001b[1mruns\\detect\\exp402\u001b[0m\n",
      "Saved 1 image to \u001b[1mruns\\detect\\exp403\u001b[0m\n",
      "Saved 1 image to \u001b[1mruns\\detect\\exp404\u001b[0m\n",
      "Saved 1 image to \u001b[1mruns\\detect\\exp405\u001b[0m\n",
      " 30%|████████████████████████▏                                                        | 93/312 [00:01<00:03, 65.07it/s]Saved 1 image to \u001b[1mruns\\detect\\exp406\u001b[0m\n",
      "Saved 1 image to \u001b[1mruns\\detect\\exp407\u001b[0m\n",
      "Saved 1 image to \u001b[1mruns\\detect\\exp408\u001b[0m\n",
      "Saved 1 image to \u001b[1mruns\\detect\\exp409\u001b[0m\n",
      "Saved 1 image to \u001b[1mruns\\detect\\exp410\u001b[0m\n",
      "Saved 1 image to \u001b[1mruns\\detect\\exp411\u001b[0m\n",
      "Saved 1 image to \u001b[1mruns\\detect\\exp412\u001b[0m\n",
      "Saved 1 image to \u001b[1mruns\\detect\\exp413\u001b[0m\n",
      " 32%|█████████████████████████▉                                                      | 101/312 [00:01<00:03, 65.18it/s]Saved 1 image to \u001b[1mruns\\detect\\exp414\u001b[0m\n",
      "Saved 1 image to \u001b[1mruns\\detect\\exp415\u001b[0m\n",
      "Saved 1 image to \u001b[1mruns\\detect\\exp416\u001b[0m\n",
      "Saved 1 image to \u001b[1mruns\\detect\\exp417\u001b[0m\n",
      "Saved 1 image to \u001b[1mruns\\detect\\exp418\u001b[0m\n",
      "Saved 1 image to \u001b[1mruns\\detect\\exp419\u001b[0m\n",
      "Saved 1 image to \u001b[1mruns\\detect\\exp420\u001b[0m\n",
      " 35%|███████████████████████████▋                                                    | 108/312 [00:01<00:03, 62.64it/s]Saved 1 image to \u001b[1mruns\\detect\\exp421\u001b[0m\n",
      "Saved 1 image to \u001b[1mruns\\detect\\exp422\u001b[0m\n",
      "Saved 1 image to \u001b[1mruns\\detect\\exp423\u001b[0m\n",
      "Saved 1 image to \u001b[1mruns\\detect\\exp424\u001b[0m\n",
      "Saved 1 image to \u001b[1mruns\\detect\\exp425\u001b[0m\n",
      "Saved 1 image to \u001b[1mruns\\detect\\exp426\u001b[0m\n",
      "Saved 1 image to \u001b[1mruns\\detect\\exp427\u001b[0m\n",
      " 37%|█████████████████████████████▍                                                  | 115/312 [00:01<00:03, 62.73it/s]Saved 1 image to \u001b[1mruns\\detect\\exp428\u001b[0m\n",
      "Saved 1 image to \u001b[1mruns\\detect\\exp429\u001b[0m\n",
      "Saved 1 image to \u001b[1mruns\\detect\\exp430\u001b[0m\n",
      "Saved 1 image to \u001b[1mruns\\detect\\exp431\u001b[0m\n",
      "Saved 1 image to \u001b[1mruns\\detect\\exp432\u001b[0m\n",
      "Saved 1 image to \u001b[1mruns\\detect\\exp433\u001b[0m\n",
      "Saved 1 image to \u001b[1mruns\\detect\\exp434\u001b[0m\n",
      " 39%|███████████████████████████████▎                                                | 122/312 [00:01<00:02, 64.01it/s]Saved 1 image to \u001b[1mruns\\detect\\exp435\u001b[0m\n",
      "Saved 1 image to \u001b[1mruns\\detect\\exp436\u001b[0m\n",
      "Saved 1 image to \u001b[1mruns\\detect\\exp437\u001b[0m\n",
      "Saved 1 image to \u001b[1mruns\\detect\\exp438\u001b[0m\n",
      "Saved 1 image to \u001b[1mruns\\detect\\exp439\u001b[0m\n",
      "Saved 1 image to \u001b[1mruns\\detect\\exp440\u001b[0m\n",
      "Saved 1 image to \u001b[1mruns\\detect\\exp441\u001b[0m\n",
      " 41%|█████████████████████████████████                                               | 129/312 [00:01<00:02, 65.53it/s]Saved 1 image to \u001b[1mruns\\detect\\exp442\u001b[0m\n",
      "Saved 1 image to \u001b[1mruns\\detect\\exp443\u001b[0m\n",
      "Saved 1 image to \u001b[1mruns\\detect\\exp444\u001b[0m\n",
      "Saved 1 image to \u001b[1mruns\\detect\\exp445\u001b[0m\n",
      "Saved 1 image to \u001b[1mruns\\detect\\exp446\u001b[0m\n",
      "Saved 1 image to \u001b[1mruns\\detect\\exp447\u001b[0m\n",
      "Saved 1 image to \u001b[1mruns\\detect\\exp448\u001b[0m\n",
      " 44%|██████████████████████████████████▊                                             | 136/312 [00:01<00:02, 63.30it/s]Saved 1 image to \u001b[1mruns\\detect\\exp449\u001b[0m\n",
      "Saved 1 image to \u001b[1mruns\\detect\\exp450\u001b[0m\n",
      "Saved 1 image to \u001b[1mruns\\detect\\exp451\u001b[0m\n",
      "Saved 1 image to \u001b[1mruns\\detect\\exp452\u001b[0m\n",
      "Saved 1 image to \u001b[1mruns\\detect\\exp453\u001b[0m\n"
     ]
    },
    {
     "name": "stderr",
     "output_type": "stream",
     "text": [
      "Saved 1 image to \u001b[1mruns\\detect\\exp454\u001b[0m\n",
      "Saved 1 image to \u001b[1mruns\\detect\\exp455\u001b[0m\n",
      " 46%|████████████████████████████████████▋                                           | 143/312 [00:02<00:02, 63.03it/s]Saved 1 image to \u001b[1mruns\\detect\\exp456\u001b[0m\n",
      "Saved 1 image to \u001b[1mruns\\detect\\exp457\u001b[0m\n",
      "Saved 1 image to \u001b[1mruns\\detect\\exp458\u001b[0m\n",
      "Saved 1 image to \u001b[1mruns\\detect\\exp459\u001b[0m\n",
      "Saved 1 image to \u001b[1mruns\\detect\\exp460\u001b[0m\n",
      "Saved 1 image to \u001b[1mruns\\detect\\exp461\u001b[0m\n",
      "Saved 1 image to \u001b[1mruns\\detect\\exp462\u001b[0m\n",
      " 48%|██████████████████████████████████████▍                                         | 150/312 [00:02<00:02, 63.90it/s]Saved 1 image to \u001b[1mruns\\detect\\exp463\u001b[0m\n",
      "Saved 1 image to \u001b[1mruns\\detect\\exp464\u001b[0m\n",
      "Saved 1 image to \u001b[1mruns\\detect\\exp465\u001b[0m\n",
      "Saved 1 image to \u001b[1mruns\\detect\\exp466\u001b[0m\n",
      "Saved 1 image to \u001b[1mruns\\detect\\exp467\u001b[0m\n",
      "Saved 1 image to \u001b[1mruns\\detect\\exp468\u001b[0m\n",
      "Saved 1 image to \u001b[1mruns\\detect\\exp469\u001b[0m\n",
      " 50%|████████████████████████████████████████▎                                       | 157/312 [00:02<00:02, 63.73it/s]Saved 1 image to \u001b[1mruns\\detect\\exp470\u001b[0m\n",
      "Saved 1 image to \u001b[1mruns\\detect\\exp471\u001b[0m\n",
      "Saved 1 image to \u001b[1mruns\\detect\\exp472\u001b[0m\n",
      "Saved 1 image to \u001b[1mruns\\detect\\exp473\u001b[0m\n",
      "Saved 1 image to \u001b[1mruns\\detect\\exp474\u001b[0m\n",
      "Saved 1 image to \u001b[1mruns\\detect\\exp475\u001b[0m\n",
      "Saved 1 image to \u001b[1mruns\\detect\\exp476\u001b[0m\n",
      " 53%|██████████████████████████████████████████                                      | 164/312 [00:02<00:02, 61.88it/s]Saved 1 image to \u001b[1mruns\\detect\\exp477\u001b[0m\n",
      "Saved 1 image to \u001b[1mruns\\detect\\exp478\u001b[0m\n",
      "Saved 1 image to \u001b[1mruns\\detect\\exp479\u001b[0m\n",
      "Saved 1 image to \u001b[1mruns\\detect\\exp480\u001b[0m\n",
      "Saved 1 image to \u001b[1mruns\\detect\\exp481\u001b[0m\n",
      "Saved 1 image to \u001b[1mruns\\detect\\exp482\u001b[0m\n",
      "Saved 1 image to \u001b[1mruns\\detect\\exp483\u001b[0m\n",
      "Saved 1 image to \u001b[1mruns\\detect\\exp484\u001b[0m\n",
      " 55%|████████████████████████████████████████████                                    | 172/312 [00:02<00:02, 65.35it/s]Saved 1 image to \u001b[1mruns\\detect\\exp485\u001b[0m\n",
      "Saved 1 image to \u001b[1mruns\\detect\\exp486\u001b[0m\n",
      "Saved 1 image to \u001b[1mruns\\detect\\exp487\u001b[0m\n",
      "Saved 1 image to \u001b[1mruns\\detect\\exp488\u001b[0m\n",
      "Saved 1 image to \u001b[1mruns\\detect\\exp489\u001b[0m\n",
      "Saved 1 image to \u001b[1mruns\\detect\\exp490\u001b[0m\n",
      "Saved 1 image to \u001b[1mruns\\detect\\exp491\u001b[0m\n",
      " 57%|█████████████████████████████████████████████▉                                  | 179/312 [00:02<00:02, 62.79it/s]Saved 1 image to \u001b[1mruns\\detect\\exp492\u001b[0m\n",
      "Saved 1 image to \u001b[1mruns\\detect\\exp493\u001b[0m\n",
      "Saved 1 image to \u001b[1mruns\\detect\\exp494\u001b[0m\n",
      "Saved 1 image to \u001b[1mruns\\detect\\exp495\u001b[0m\n",
      "Saved 1 image to \u001b[1mruns\\detect\\exp496\u001b[0m\n",
      "Saved 1 image to \u001b[1mruns\\detect\\exp497\u001b[0m\n",
      "Saved 1 image to \u001b[1mruns\\detect\\exp498\u001b[0m\n",
      " 60%|███████████████████████████████████████████████▋                                | 186/312 [00:02<00:01, 63.67it/s]Saved 1 image to \u001b[1mruns\\detect\\exp499\u001b[0m\n",
      "Saved 1 image to \u001b[1mruns\\detect\\exp500\u001b[0m\n",
      "Saved 1 image to \u001b[1mruns\\detect\\exp501\u001b[0m\n",
      "Saved 1 image to \u001b[1mruns\\detect\\exp502\u001b[0m\n",
      "Saved 1 image to \u001b[1mruns\\detect\\exp503\u001b[0m\n",
      "Saved 1 image to \u001b[1mruns\\detect\\exp504\u001b[0m\n",
      "Saved 1 image to \u001b[1mruns\\detect\\exp505\u001b[0m\n",
      " 62%|█████████████████████████████████████████████████▍                              | 193/312 [00:02<00:01, 62.22it/s]Saved 1 image to \u001b[1mruns\\detect\\exp506\u001b[0m\n",
      "Saved 1 image to \u001b[1mruns\\detect\\exp507\u001b[0m\n",
      "Saved 1 image to \u001b[1mruns\\detect\\exp508\u001b[0m\n",
      "Saved 1 image to \u001b[1mruns\\detect\\exp509\u001b[0m\n",
      "Saved 1 image to \u001b[1mruns\\detect\\exp510\u001b[0m\n",
      "Saved 1 image to \u001b[1mruns\\detect\\exp511\u001b[0m\n",
      "Saved 1 image to \u001b[1mruns\\detect\\exp512\u001b[0m\n",
      "Saved 1 image to \u001b[1mruns\\detect\\exp513\u001b[0m\n",
      "Saved 1 image to \u001b[1mruns\\detect\\exp514\u001b[0m\n",
      "Saved 1 image to \u001b[1mruns\\detect\\exp515\u001b[0m\n",
      "Saved 1 image to \u001b[1mruns\\detect\\exp516\u001b[0m\n",
      " 65%|████████████████████████████████████████████████████▎                           | 204/312 [00:02<00:01, 75.20it/s]Saved 1 image to \u001b[1mruns\\detect\\exp517\u001b[0m\n",
      "Saved 1 image to \u001b[1mruns\\detect\\exp518\u001b[0m\n",
      "Saved 1 image to \u001b[1mruns\\detect\\exp519\u001b[0m\n",
      "Saved 1 image to \u001b[1mruns\\detect\\exp520\u001b[0m\n",
      "Saved 1 image to \u001b[1mruns\\detect\\exp521\u001b[0m\n",
      "Saved 1 image to \u001b[1mruns\\detect\\exp522\u001b[0m\n",
      "Saved 1 image to \u001b[1mruns\\detect\\exp523\u001b[0m\n",
      "Saved 1 image to \u001b[1mruns\\detect\\exp524\u001b[0m\n",
      "Saved 1 image to \u001b[1mruns\\detect\\exp525\u001b[0m\n",
      "Saved 1 image to \u001b[1mruns\\detect\\exp526\u001b[0m\n",
      " 69%|██████████████████████████████████████████████████████▊                         | 214/312 [00:03<00:01, 81.54it/s]Saved 1 image to \u001b[1mruns\\detect\\exp527\u001b[0m\n",
      "Saved 1 image to \u001b[1mruns\\detect\\exp528\u001b[0m\n",
      "Saved 1 image to \u001b[1mruns\\detect\\exp529\u001b[0m\n",
      "Saved 1 image to \u001b[1mruns\\detect\\exp530\u001b[0m\n",
      "Saved 1 image to \u001b[1mruns\\detect\\exp531\u001b[0m\n",
      "Saved 1 image to \u001b[1mruns\\detect\\exp532\u001b[0m\n",
      "Saved 1 image to \u001b[1mruns\\detect\\exp533\u001b[0m\n",
      "Saved 1 image to \u001b[1mruns\\detect\\exp534\u001b[0m\n",
      "Saved 1 image to \u001b[1mruns\\detect\\exp535\u001b[0m\n",
      " 71%|█████████████████████████████████████████████████████████▏                      | 223/312 [00:03<00:01, 79.84it/s]Saved 1 image to \u001b[1mruns\\detect\\exp536\u001b[0m\n",
      "Saved 1 image to \u001b[1mruns\\detect\\exp537\u001b[0m\n",
      "Saved 1 image to \u001b[1mruns\\detect\\exp538\u001b[0m\n",
      "Saved 1 image to \u001b[1mruns\\detect\\exp539\u001b[0m\n",
      "Saved 1 image to \u001b[1mruns\\detect\\exp540\u001b[0m\n",
      "Saved 1 image to \u001b[1mruns\\detect\\exp541\u001b[0m\n",
      "Saved 1 image to \u001b[1mruns\\detect\\exp542\u001b[0m\n",
      "Saved 1 image to \u001b[1mruns\\detect\\exp543\u001b[0m\n",
      "Saved 1 image to \u001b[1mruns\\detect\\exp544\u001b[0m\n",
      " 74%|███████████████████████████████████████████████████████████▍                    | 232/312 [00:03<00:00, 82.22it/s]Saved 1 image to \u001b[1mruns\\detect\\exp545\u001b[0m\n",
      "Saved 1 image to \u001b[1mruns\\detect\\exp546\u001b[0m\n",
      "Saved 1 image to \u001b[1mruns\\detect\\exp547\u001b[0m\n",
      "Saved 1 image to \u001b[1mruns\\detect\\exp548\u001b[0m\n",
      "Saved 1 image to \u001b[1mruns\\detect\\exp549\u001b[0m\n",
      "Saved 1 image to \u001b[1mruns\\detect\\exp550\u001b[0m\n",
      "Saved 1 image to \u001b[1mruns\\detect\\exp551\u001b[0m\n",
      "Saved 1 image to \u001b[1mruns\\detect\\exp552\u001b[0m\n",
      "Saved 1 image to \u001b[1mruns\\detect\\exp553\u001b[0m\n",
      " 77%|█████████████████████████████████████████████████████████████▊                  | 241/312 [00:03<00:00, 84.17it/s]Saved 1 image to \u001b[1mruns\\detect\\exp554\u001b[0m\n",
      "Saved 1 image to \u001b[1mruns\\detect\\exp555\u001b[0m\n",
      "Saved 1 image to \u001b[1mruns\\detect\\exp556\u001b[0m\n",
      "Saved 1 image to \u001b[1mruns\\detect\\exp557\u001b[0m\n",
      "Saved 1 image to \u001b[1mruns\\detect\\exp558\u001b[0m\n",
      "Saved 1 image to \u001b[1mruns\\detect\\exp559\u001b[0m\n",
      "Saved 1 image to \u001b[1mruns\\detect\\exp560\u001b[0m\n",
      "Saved 1 image to \u001b[1mruns\\detect\\exp561\u001b[0m\n",
      "Saved 1 image to \u001b[1mruns\\detect\\exp562\u001b[0m\n",
      "Saved 1 image to \u001b[1mruns\\detect\\exp563\u001b[0m\n",
      " 80%|████████████████████████████████████████████████████████████████▎               | 251/312 [00:03<00:00, 88.47it/s]Saved 1 image to \u001b[1mruns\\detect\\exp564\u001b[0m\n",
      "Saved 1 image to \u001b[1mruns\\detect\\exp565\u001b[0m\n",
      "Saved 1 image to \u001b[1mruns\\detect\\exp566\u001b[0m\n",
      "Saved 1 image to \u001b[1mruns\\detect\\exp567\u001b[0m\n",
      "Saved 1 image to \u001b[1mruns\\detect\\exp568\u001b[0m\n",
      "Saved 1 image to \u001b[1mruns\\detect\\exp569\u001b[0m\n",
      "Saved 1 image to \u001b[1mruns\\detect\\exp570\u001b[0m\n",
      "Saved 1 image to \u001b[1mruns\\detect\\exp571\u001b[0m\n",
      "Saved 1 image to \u001b[1mruns\\detect\\exp572\u001b[0m\n",
      " 83%|██████████████████████████████████████████████████████████████████▋             | 260/312 [00:03<00:00, 85.64it/s]Saved 1 image to \u001b[1mruns\\detect\\exp573\u001b[0m\n",
      "Saved 1 image to \u001b[1mruns\\detect\\exp574\u001b[0m\n",
      "Saved 1 image to \u001b[1mruns\\detect\\exp575\u001b[0m\n",
      "Saved 1 image to \u001b[1mruns\\detect\\exp576\u001b[0m\n",
      "Saved 1 image to \u001b[1mruns\\detect\\exp577\u001b[0m\n",
      "Saved 1 image to \u001b[1mruns\\detect\\exp578\u001b[0m\n",
      "Saved 1 image to \u001b[1mruns\\detect\\exp579\u001b[0m\n",
      "Saved 1 image to \u001b[1mruns\\detect\\exp580\u001b[0m\n",
      "Saved 1 image to \u001b[1mruns\\detect\\exp581\u001b[0m\n",
      " 86%|████████████████████████████████████████████████████████████████████▉           | 269/312 [00:03<00:00, 85.13it/s]Saved 1 image to \u001b[1mruns\\detect\\exp582\u001b[0m\n",
      "Saved 1 image to \u001b[1mruns\\detect\\exp583\u001b[0m\n",
      "Saved 1 image to \u001b[1mruns\\detect\\exp584\u001b[0m\n",
      "Saved 1 image to \u001b[1mruns\\detect\\exp585\u001b[0m\n",
      "Saved 1 image to \u001b[1mruns\\detect\\exp586\u001b[0m\n",
      "Saved 1 image to \u001b[1mruns\\detect\\exp587\u001b[0m\n",
      "Saved 1 image to \u001b[1mruns\\detect\\exp588\u001b[0m\n",
      "Saved 1 image to \u001b[1mruns\\detect\\exp589\u001b[0m\n",
      "Saved 1 image to \u001b[1mruns\\detect\\exp590\u001b[0m\n",
      "Saved 1 image to \u001b[1mruns\\detect\\exp591\u001b[0m\n",
      " 89%|███████████████████████████████████████████████████████████████████████▌        | 279/312 [00:03<00:00, 86.06it/s]Saved 1 image to \u001b[1mruns\\detect\\exp592\u001b[0m\n",
      "Saved 1 image to \u001b[1mruns\\detect\\exp593\u001b[0m\n",
      "Saved 1 image to \u001b[1mruns\\detect\\exp594\u001b[0m\n"
     ]
    },
    {
     "name": "stderr",
     "output_type": "stream",
     "text": [
      "Saved 1 image to \u001b[1mruns\\detect\\exp595\u001b[0m\n",
      "Saved 1 image to \u001b[1mruns\\detect\\exp596\u001b[0m\n",
      "Saved 1 image to \u001b[1mruns\\detect\\exp597\u001b[0m\n",
      "Saved 1 image to \u001b[1mruns\\detect\\exp598\u001b[0m\n",
      "Saved 1 image to \u001b[1mruns\\detect\\exp599\u001b[0m\n",
      "Saved 1 image to \u001b[1mruns\\detect\\exp600\u001b[0m\n",
      " 92%|█████████████████████████████████████████████████████████████████████████▊      | 288/312 [00:03<00:00, 83.78it/s]Saved 1 image to \u001b[1mruns\\detect\\exp601\u001b[0m\n",
      "Saved 1 image to \u001b[1mruns\\detect\\exp602\u001b[0m\n",
      "Saved 1 image to \u001b[1mruns\\detect\\exp603\u001b[0m\n",
      "Saved 1 image to \u001b[1mruns\\detect\\exp604\u001b[0m\n",
      "Saved 1 image to \u001b[1mruns\\detect\\exp605\u001b[0m\n",
      "Saved 1 image to \u001b[1mruns\\detect\\exp606\u001b[0m\n",
      "Saved 1 image to \u001b[1mruns\\detect\\exp607\u001b[0m\n",
      "Saved 1 image to \u001b[1mruns\\detect\\exp608\u001b[0m\n",
      "Saved 1 image to \u001b[1mruns\\detect\\exp609\u001b[0m\n",
      "Saved 1 image to \u001b[1mruns\\detect\\exp610\u001b[0m\n",
      "Saved 1 image to \u001b[1mruns\\detect\\exp611\u001b[0m\n",
      " 96%|████████████████████████████████████████████████████████████████████████████▋   | 299/312 [00:04<00:00, 89.91it/s]Saved 1 image to \u001b[1mruns\\detect\\exp612\u001b[0m\n",
      "Saved 1 image to \u001b[1mruns\\detect\\exp613\u001b[0m\n",
      "Saved 1 image to \u001b[1mruns\\detect\\exp614\u001b[0m\n",
      "Saved 1 image to \u001b[1mruns\\detect\\exp615\u001b[0m\n",
      "Saved 1 image to \u001b[1mruns\\detect\\exp616\u001b[0m\n",
      "Saved 1 image to \u001b[1mruns\\detect\\exp617\u001b[0m\n",
      "Saved 1 image to \u001b[1mruns\\detect\\exp618\u001b[0m\n",
      "Saved 1 image to \u001b[1mruns\\detect\\exp619\u001b[0m\n",
      "Saved 1 image to \u001b[1mruns\\detect\\exp620\u001b[0m\n",
      "Saved 1 image to \u001b[1mruns\\detect\\exp621\u001b[0m\n",
      " 99%|███████████████████████████████████████████████████████████████████████████████▏| 309/312 [00:04<00:00, 91.13it/s]Saved 1 image to \u001b[1mruns\\detect\\exp622\u001b[0m\n",
      "Saved 1 image to \u001b[1mruns\\detect\\exp623\u001b[0m\n",
      "Saved 1 image to \u001b[1mruns\\detect\\exp624\u001b[0m\n",
      "100%|████████████████████████████████████████████████████████████████████████████████| 312/312 [00:04<00:00, 75.13it/s]\n"
     ]
    },
    {
     "name": "stdout",
     "output_type": "stream",
     "text": [
      "Collect all stickers from all images\n"
     ]
    },
    {
     "name": "stderr",
     "output_type": "stream",
     "text": [
      "100%|████████████████████████████████████████████████████████████████████████████| 312/312 [00:00<00:00, 312992.79it/s]\n"
     ]
    },
    {
     "name": "stdout",
     "output_type": "stream",
     "text": [
      "Total letter numbers: 972\n",
      "<class 'numpy.ndarray'>\n",
      "\n",
      "Convert color back to BGR\n"
     ]
    },
    {
     "name": "stderr",
     "output_type": "stream",
     "text": [
      "100%|████████████████████████████████████████████████████████████████████████████████████████| 972/972 [00:00<?, ?it/s]\n"
     ]
    },
    {
     "name": "stdout",
     "output_type": "stream",
     "text": [
      "outputting result\n"
     ]
    },
    {
     "name": "stderr",
     "output_type": "stream",
     "text": [
      "100%|██████████████████████████████████████████████████████████████████████████████| 972/972 [00:00<00:00, 1692.41it/s]\n"
     ]
    }
   ],
   "source": [
    "imgs = []  # batch of images\n",
    "\n",
    "print('--Loading Images--')\n",
    "for file in tqdm(files):\n",
    "    imgs.append(NumberLetter(cv2.imread(file)))\n",
    "\n",
    "print('--Converting Image Color to RGB--')   \n",
    "for i in tqdm(range (len(imgs))):\n",
    "    imgs[i].image = cv2.cvtColor(imgs[i].image, cv2.COLOR_BGR2RGB)\n",
    "\n",
    "print('Identifying crop locations')\n",
    "for i in tqdm(range (len(imgs))):\n",
    "    imgs[i].results = model(np.copy(imgs[i].image))\n",
    "\n",
    "print('Cropping...')\n",
    "for i in tqdm(range (len(imgs))):\n",
    "    imgs[i].results.save()\n",
    "    df = imgs[i].results.pandas().xyxy[0]\n",
    "    \n",
    "    if (len(df) >0):\n",
    "        for j in range (len(df)):\n",
    "            xmin = int(df.iloc[j].xmin)\n",
    "            ymin = int(df.iloc[j].ymin)\n",
    "            xmax = int(df.iloc[j].xmax)\n",
    "            ymax = int(df.iloc[j].ymax)\n",
    "            imgs[i].letternumbers.append(imgs[i].image[ymin:ymax,xmin:xmax])\n",
    "            \n",
    "#Collect all stickers from all images\n",
    "print ('Collect all stickers from all images')\n",
    "letternumber_list = []\n",
    "\n",
    "for img in tqdm(imgs):\n",
    "    for letternumber in img.letternumbers:\n",
    "        letternumber_list.append(letternumber)\n",
    "\n",
    "#check before output  \n",
    "print('Total letter numbers:',len(letternumber_list))\n",
    "print(type(letternumber_list[0]))\n",
    "print()\n",
    "\n",
    "print('Convert color back to BGR')\n",
    "for i in tqdm (range (len(letternumber_list))):\n",
    "    try:\n",
    "        #sticker[i] = cv2.cvtColor(sticker[i], cv2.COLOR_BGR2RGB)\n",
    "        letternumber_list[i] = letternumber_list[i][:,:,::-1]\n",
    "    except:\n",
    "        continue\n",
    "\n",
    "#outputting result\n",
    "print('outputting result')\n",
    "i = 0\n",
    "prefix = ''\n",
    "for letternumber in tqdm(letternumber_list):\n",
    "    \n",
    "    if (i < 10):\n",
    "        prefix = '00'\n",
    "    elif (i < 100):\n",
    "        prefix = '0'\n",
    "    elif (i>100):\n",
    "        prefix = ''\n",
    "        \n",
    "    cv2.imwrite('./Numbers_and_Letters/numlet_'+prefix+str(i)+'.jpg',letternumber)\n",
    "    i+=1\n",
    "            "
   ]
  },
  {
   "cell_type": "code",
   "execution_count": null,
   "id": "20830c87",
   "metadata": {},
   "outputs": [],
   "source": []
  }
 ],
 "metadata": {
  "kernelspec": {
   "display_name": "Python 3 (ipykernel)",
   "language": "python",
   "name": "python3"
  },
  "language_info": {
   "codemirror_mode": {
    "name": "ipython",
    "version": 3
   },
   "file_extension": ".py",
   "mimetype": "text/x-python",
   "name": "python",
   "nbconvert_exporter": "python",
   "pygments_lexer": "ipython3",
   "version": "3.9.12"
  }
 },
 "nbformat": 4,
 "nbformat_minor": 5
}
