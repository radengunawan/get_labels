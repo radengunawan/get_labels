{
 "cells": [
  {
   "cell_type": "code",
   "execution_count": 1,
   "id": "0d5ade19",
   "metadata": {},
   "outputs": [
    {
     "name": "stdout",
     "output_type": "stream",
     "text": [
      "150\n"
     ]
    }
   ],
   "source": [
    "import cv2\n",
    "import glob\n",
    "import numpy as np\n",
    "from tqdm import tqdm\n",
    "import torch\n",
    "\n",
    "files = glob.glob('./Raw_Boxes_From_Video_Spec/Mixshuff/stickers/*.jpg')\n",
    "print(len(files))"
   ]
  },
  {
   "cell_type": "code",
   "execution_count": 2,
   "id": "3ec85ee5",
   "metadata": {},
   "outputs": [
    {
     "name": "stderr",
     "output_type": "stream",
     "text": [
      "Using cache found in C:\\Users\\sendr/.cache\\torch\\hub\\ultralytics_yolov5_master\n",
      "YOLOv5  2021-12-9 torch 1.8.2+cu111 CUDA:0 (GeForce RTX 3050 Laptop GPU, 4096MiB)\n",
      "\n",
      "Fusing layers... \n",
      "Model Summary: 224 layers, 7053910 parameters, 0 gradients, 16.3 GFLOPs\n",
      "Adding AutoShape... \n"
     ]
    }
   ],
   "source": [
    "model = torch.hub.load('ultralytics/yolov5','custom',path='./Models/detector_data.pt')\n",
    "model.iou = 0.1"
   ]
  },
  {
   "cell_type": "code",
   "execution_count": 3,
   "id": "049b1abf",
   "metadata": {},
   "outputs": [],
   "source": [
    "class Numlet:\n",
    "    def __init__ (self, image, filename, order):\n",
    "        self.image = image\n",
    "        self.filename = filename\n",
    "        self.order = order"
   ]
  },
  {
   "cell_type": "code",
   "execution_count": 6,
   "id": "c1c65841",
   "metadata": {},
   "outputs": [
    {
     "data": {
      "text/plain": [
       "'stx_0_0'"
      ]
     },
     "execution_count": 6,
     "metadata": {},
     "output_type": "execute_result"
    }
   ],
   "source": [
    "files[0].split('\\\\')[-1].split('.')[-2]"
   ]
  },
  {
   "cell_type": "code",
   "execution_count": 7,
   "id": "685b8019",
   "metadata": {},
   "outputs": [
    {
     "name": "stderr",
     "output_type": "stream",
     "text": [
      "100%|████████████████████████████████████████████████████████████████████████████████| 150/150 [00:13<00:00, 11.18it/s]\n"
     ]
    }
   ],
   "source": [
    "for file in tqdm(files):\n",
    "    image = cv2.imread(file)\n",
    "    df = model(image[:,:,::-1]).pandas().xyxy[0]\n",
    "    for j in range (len(df)):\n",
    "        xmin = int(df.iloc[j].xmin)\n",
    "        ymin = int(df.iloc[j].ymin)\n",
    "        xmax = int(df.iloc[j].xmax)\n",
    "        ymax = int(df.iloc[j].ymax)\n",
    "        \n",
    "        num = Numlet(image[ymin:ymax,xmin:xmax], file.split('\\\\')[-1].split('.')[-2], j)\n",
    "        cv2.imwrite('./Raw_Boxes_From_Video_Spec/Mixshuff/numlet/fr_'+str(num.filename)+'_ord_'+str(num.order)+'.jpg',num.image)"
   ]
  },
  {
   "cell_type": "code",
   "execution_count": null,
   "id": "19c501bc",
   "metadata": {},
   "outputs": [],
   "source": []
  }
 ],
 "metadata": {
  "kernelspec": {
   "display_name": "Python 3 (ipykernel)",
   "language": "python",
   "name": "python3"
  },
  "language_info": {
   "codemirror_mode": {
    "name": "ipython",
    "version": 3
   },
   "file_extension": ".py",
   "mimetype": "text/x-python",
   "name": "python",
   "nbconvert_exporter": "python",
   "pygments_lexer": "ipython3",
   "version": "3.9.12"
  }
 },
 "nbformat": 4,
 "nbformat_minor": 5
}
