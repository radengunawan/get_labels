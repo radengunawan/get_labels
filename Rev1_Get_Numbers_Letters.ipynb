{
 "cells": [
  {
   "cell_type": "markdown",
   "id": "0a4d865f",
   "metadata": {},
   "source": [
    "#### usage of yolo for getting numbers and letters only\n",
    "#### lib and function def"
   ]
  },
  {
   "cell_type": "code",
   "execution_count": 1,
   "id": "e6d295c4",
   "metadata": {},
   "outputs": [
    {
     "data": {
      "text/plain": [
       "'D:\\\\Proj_OCR'"
      ]
     },
     "execution_count": 1,
     "metadata": {},
     "output_type": "execute_result"
    }
   ],
   "source": [
    "pwd"
   ]
  },
  {
   "cell_type": "code",
   "execution_count": 2,
   "id": "c741d789",
   "metadata": {},
   "outputs": [],
   "source": [
    "import cv2\n",
    "import torch\n",
    "from PIL import Image\n",
    "import cv2\n",
    "import torch\n",
    "from PIL import Image\n",
    "import glob\n",
    "import matplotlib.pyplot as plt\n",
    "\n",
    "import numpy as np\n",
    "import matplotlib.image as mpimg\n",
    "import os\n",
    "from pyzbar.pyzbar import decode\n",
    "from pyzbar import pyzbar\n",
    "import cv2\n",
    "import glob\n",
    "from tqdm import tqdm\n",
    "from barcode import EAN13\n",
    "from barcode.writer import ImageWriter\n",
    "import matplotlib.pyplot as plt\n",
    "\n",
    "import cv2\n",
    "import torch\n",
    "from PIL import Image\n",
    "\n",
    "\n",
    "%matplotlib inline"
   ]
  },
  {
   "cell_type": "code",
   "execution_count": 3,
   "id": "8456355b",
   "metadata": {},
   "outputs": [
    {
     "name": "stdout",
     "output_type": "stream",
     "text": [
      "0\n"
     ]
    },
    {
     "name": "stderr",
     "output_type": "stream",
     "text": [
      "100%|██████████████████████████████████████████████████████████████████████████████████████████| 36/36 [00:00<?, ?it/s]"
     ]
    },
    {
     "name": "stdout",
     "output_type": "stream",
     "text": [
      "36\n"
     ]
    },
    {
     "name": "stderr",
     "output_type": "stream",
     "text": [
      "\n"
     ]
    }
   ],
   "source": [
    "files = glob.glob('./Raw_Stickers2/Type_1/*.png')\n",
    "print(len(files))\n",
    "another_files = glob.glob('./Raw_Stickers2/Type_1/*.jpg')\n",
    "\n",
    "for file in tqdm(another_files):\n",
    "    files.append(file)\n",
    "    \n",
    "print(len(files))"
   ]
  },
  {
   "cell_type": "markdown",
   "id": "8493adf2",
   "metadata": {},
   "source": [
    "#### Model loading"
   ]
  },
  {
   "cell_type": "code",
   "execution_count": 4,
   "id": "5491d444",
   "metadata": {},
   "outputs": [
    {
     "name": "stderr",
     "output_type": "stream",
     "text": [
      "Using cache found in C:\\Users\\sendr/.cache\\torch\\hub\\ultralytics_yolov5_master\n",
      "YOLOv5  2021-12-9 torch 1.8.2+cu111 CUDA:0 (GeForce RTX 3050 Laptop GPU, 4096MiB)\n",
      "\n",
      "Fusing layers... \n",
      "Model Summary: 224 layers, 7053910 parameters, 0 gradients, 16.3 GFLOPs\n",
      "Adding AutoShape... \n"
     ]
    },
    {
     "name": "stdout",
     "output_type": "stream",
     "text": [
      "<class 'models.common.AutoShape'>\n"
     ]
    }
   ],
   "source": [
    "model = torch.hub.load('ultralytics/yolov5', 'custom', path='./Models/best_numlet_labelType1.pt')\n",
    "model.iou = 0.1\n",
    "print(type(model))"
   ]
  },
  {
   "cell_type": "code",
   "execution_count": 5,
   "id": "dbf154e8",
   "metadata": {},
   "outputs": [],
   "source": [
    "class NumberLetter:\n",
    "    def __init__(self, image = None):\n",
    "        self.image = image\n",
    "        self.results = []\n",
    "        self.letternumbers = []"
   ]
  },
  {
   "cell_type": "code",
   "execution_count": 11,
   "id": "46d26e4c",
   "metadata": {},
   "outputs": [
    {
     "data": {
      "text/plain": [
       "'D:\\\\Proj_OCR'"
      ]
     },
     "execution_count": 11,
     "metadata": {},
     "output_type": "execute_result"
    }
   ],
   "source": [
    "pwd"
   ]
  },
  {
   "cell_type": "code",
   "execution_count": 6,
   "id": "ba185f9e",
   "metadata": {},
   "outputs": [
    {
     "name": "stdout",
     "output_type": "stream",
     "text": [
      "--Loading Images--\n"
     ]
    },
    {
     "name": "stderr",
     "output_type": "stream",
     "text": [
      "100%|██████████████████████████████████████████████████████████████████████████████████| 36/36 [00:01<00:00, 21.23it/s]\n"
     ]
    },
    {
     "name": "stdout",
     "output_type": "stream",
     "text": [
      "--Converting Image Color to RGB--\n"
     ]
    },
    {
     "name": "stderr",
     "output_type": "stream",
     "text": [
      "100%|█████████████████████████████████████████████████████████████████████████████████| 36/36 [00:00<00:00, 427.16it/s]\n"
     ]
    },
    {
     "name": "stdout",
     "output_type": "stream",
     "text": [
      "Identifying crop locations...\n"
     ]
    },
    {
     "name": "stderr",
     "output_type": "stream",
     "text": [
      "100%|██████████████████████████████████████████████████████████████████████████████████| 36/36 [00:02<00:00, 12.74it/s]\n"
     ]
    },
    {
     "name": "stdout",
     "output_type": "stream",
     "text": [
      "Cropping...\n"
     ]
    },
    {
     "name": "stderr",
     "output_type": "stream",
     "text": [
      "100%|██████████████████████████████████████████████████████████████████████████████████| 36/36 [00:00<00:00, 54.59it/s]\n"
     ]
    },
    {
     "name": "stdout",
     "output_type": "stream",
     "text": [
      "Collect all stickers from all images...\n"
     ]
    },
    {
     "name": "stderr",
     "output_type": "stream",
     "text": [
      "100%|███████████████████████████████████████████████████████████████████████████████| 36/36 [00:00<00:00, 99600.89it/s]\n"
     ]
    },
    {
     "name": "stdout",
     "output_type": "stream",
     "text": [
      "Total letter numbers: 252\n",
      "<class 'numpy.ndarray'>\n",
      "\n",
      "Convert color back to BGR...\n"
     ]
    },
    {
     "name": "stderr",
     "output_type": "stream",
     "text": [
      "100%|████████████████████████████████████████████████████████████████████████████| 252/252 [00:00<00:00, 227892.33it/s]\n"
     ]
    },
    {
     "name": "stdout",
     "output_type": "stream",
     "text": [
      "outputting result...\n"
     ]
    },
    {
     "name": "stderr",
     "output_type": "stream",
     "text": [
      "100%|███████████████████████████████████████████████████████████████████████████████| 252/252 [00:00<00:00, 516.99it/s]\n"
     ]
    }
   ],
   "source": [
    "imgs = []  # batch of images\n",
    "\n",
    "print('--Loading Images--')\n",
    "for file in tqdm(files):\n",
    "    imgs.append(NumberLetter(cv2.imread(file)))\n",
    "\n",
    "print('--Converting Image Color to RGB--')   \n",
    "for i in tqdm(range (len(imgs))):\n",
    "    imgs[i].image = cv2.cvtColor(imgs[i].image, cv2.COLOR_BGR2RGB)\n",
    "\n",
    "print('Identifying crop locations...')\n",
    "for i in tqdm(range (len(imgs))):\n",
    "    imgs[i].results = model(np.copy(imgs[i].image))\n",
    "\n",
    "print('Cropping...')\n",
    "for i in tqdm(range (len(imgs))):\n",
    "    #imgs[i].results.save()\n",
    "    df = imgs[i].results.pandas().xyxy[0]\n",
    "    \n",
    "    if (len(df) >0):\n",
    "        for j in range (len(df)):\n",
    "            xmin = int(df.iloc[j].xmin)\n",
    "            ymin = int(df.iloc[j].ymin)\n",
    "            xmax = int(df.iloc[j].xmax)\n",
    "            ymax = int(df.iloc[j].ymax)\n",
    "            imgs[i].letternumbers.append(imgs[i].image[ymin:ymax,xmin:xmax])\n",
    "            \n",
    "#Collect all stickers from all images\n",
    "print ('Collect all stickers from all images...')\n",
    "letternumber_list = []\n",
    "\n",
    "for img in tqdm(imgs):\n",
    "    for letternumber in img.letternumbers:\n",
    "        letternumber_list.append(letternumber)\n",
    "\n",
    "#check before output  \n",
    "print('Total letter numbers:',len(letternumber_list))\n",
    "print(type(letternumber_list[0]))\n",
    "print()\n",
    "\n",
    "print('Convert color back to BGR...')\n",
    "for i in tqdm (range (len(letternumber_list))):\n",
    "    try:\n",
    "        #sticker[i] = cv2.cvtColor(sticker[i], cv2.COLOR_BGR2RGB)\n",
    "        letternumber_list[i] = letternumber_list[i][:,:,::-1]\n",
    "    except:\n",
    "        continue\n",
    "\n",
    "#outputting result\n",
    "print('outputting result...')\n",
    "i = 0\n",
    "prefix = ''\n",
    "for letternumber in tqdm(letternumber_list):\n",
    "    \n",
    "    if (i < 10):\n",
    "        prefix = '00'\n",
    "    elif (i < 100):\n",
    "        prefix = '0'\n",
    "    elif (i>100):\n",
    "        prefix = ''\n",
    "        \n",
    "    cv2.imwrite('./Numbers_and_Letters2/nl2a_'+prefix+str(i)+'.jpg',letternumber)\n",
    "    i+=1\n",
    "            "
   ]
  },
  {
   "cell_type": "code",
   "execution_count": null,
   "id": "2c6b6749",
   "metadata": {},
   "outputs": [],
   "source": []
  }
 ],
 "metadata": {
  "kernelspec": {
   "display_name": "Python 3 (ipykernel)",
   "language": "python",
   "name": "python3"
  },
  "language_info": {
   "codemirror_mode": {
    "name": "ipython",
    "version": 3
   },
   "file_extension": ".py",
   "mimetype": "text/x-python",
   "name": "python",
   "nbconvert_exporter": "python",
   "pygments_lexer": "ipython3",
   "version": "3.9.12"
  }
 },
 "nbformat": 4,
 "nbformat_minor": 5
}
